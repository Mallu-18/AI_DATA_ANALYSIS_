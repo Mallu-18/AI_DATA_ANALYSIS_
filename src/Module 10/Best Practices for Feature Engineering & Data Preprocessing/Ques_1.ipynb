{
 "cells": [
  {
   "cell_type": "markdown",
   "metadata": {},
   "source": [
    "### Task 1: Handling Missing Values - Simple Imputation\n",
    "**Description**: Given a dataset with missing values, impute the missing values using the mean for numerical features and the mode for categorical features."
   ]
  },
  {
   "cell_type": "code",
   "execution_count": null,
   "metadata": {},
   "outputs": [],
   "source": [
    "# write your code from here\n",
    "# write your code from here\n",
    "import pandas as pd\n",
    "import numpy as np\n",
    "\n",
    "def handle_missing_values_simple_imputation(df):\n",
    "    \"\"\"\n",
    "    Imputes missing values in a DataFrame.\n",
    "\n",
    "    Args:\n",
    "        df (pd.DataFrame): The input DataFrame with missing values.\n",
    "\n",
    "    Returns:\n",
    "        pd.DataFrame: A new DataFrame with missing values imputed.\n",
    "                      Numerical features are imputed with the mean,\n",
    "                      and categorical/object features are imputed with the mode.\n",
    "    \"\"\"\n",
    "    for col in df.columns:\n",
    "        if pd.api.types.is_numeric_dtype(df[col]):\n",
    "            df[col] = df[col].fillna(df[col].mean())\n",
    "        elif pd.api.types.is_categorical_dtype(df[col]) or pd.api.types.is_object_dtype(df[col]):\n",
    "            df[col] = df[col].fillna(df[col].mode()[0])\n",
    "    return df\n",
    "\n",
    "if __name__ == '__main__':\n",
    "    data = {'numerical_1': [1, 2, np.nan, 4, 5],\n",
    "            'numerical_2': [10, 20, 30, np.nan, 50],\n",
    "            'categorical_1': ['A', 'B', np.nan, 'A', 'C'],\n",
    "            'categorical_2': ['X', 'Y', 'Z', 'X', np.nan]}\n",
    "    df = pd.DataFrame(data)\n",
    "\n",
    "    print(\"Original DataFrame:\")\n",
    "    print(df)\n",
    "\n",
    "    df_imputed = handle_missing_values_simple_imputation(df.copy())\n",
    "    print(\"\\nDataFrame with Imputed Values:\")\n",
    "    print(df_imputed)"
   ]
  },
  {
   "cell_type": "markdown",
   "metadata": {},
   "source": [
    "### Task 2: Feature Scaling - Min-Max Normalization\n",
    "**Description**: Normalize a numerical feature using Min-Max scaling to a range [0, 1]."
   ]
  },
  {
   "cell_type": "code",
   "execution_count": null,
   "metadata": {},
   "outputs": [],
   "source": [
    "# write your code from here\n",
    "\n",
    "# write your code from here\n",
    "import pandas as pd\n",
    "from sklearn.preprocessing import MinMaxScaler\n",
    "\n",
    "def feature_scaling_min_max_normalization(series):\n",
    "    \"\"\"\n",
    "    Normalizes a numerical pandas Series using Min-Max scaling to the range [0, 1].\n",
    "\n",
    "    Args:\n",
    "        series (pd.Series): The input numerical pandas Series to be normalized.\n",
    "\n",
    "    Returns:\n",
    "        pd.Series: A new pandas Series with values scaled to the range [0, 1].\n",
    "    \"\"\"\n",
    "    scaler = MinMaxScaler()\n",
    "    return pd.Series(scaler.fit_transform(series.values.reshape(-1, 1)).flatten(), index=series.index)\n",
    "\n",
    "if __name__ == '__main__':\n",
    "    data = {'numerical_feature': [10, 20, 30, 40, 50, -10]}\n",
    "    df = pd.DataFrame(data)\n",
    "    numerical_series = df['numerical_feature']\n",
    "\n",
    "    print(\"Original Series:\")\n",
    "    print(numerical_series)\n",
    "\n",
    "    normalized_series = feature_scaling_min_max_normalization(numerical_series)\n",
    "    print(\"\\nNormalized Series (Min-Max Scaling):\")\n",
    "    print(normalized_series)"
   ]
  },
  {
   "cell_type": "markdown",
   "metadata": {},
   "source": [
    "### Task 3: Handling Missing Values - Drop Missing Values\n",
    "**Description**: Remove rows with missing values from a dataset."
   ]
  },
  {
   "cell_type": "code",
   "execution_count": null,
   "metadata": {},
   "outputs": [],
   "source": [
    "# write your code from here\n",
    "\n",
    "# write your code from here\n",
    "import pandas as pd\n",
    "import numpy as np\n",
    "\n",
    "def handle_missing_values_drop(df):\n",
    "    \"\"\"\n",
    "    Removes rows with any missing values from a DataFrame.\n",
    "\n",
    "    Args:\n",
    "        df (pd.DataFrame): The input DataFrame.\n",
    "\n",
    "    Returns:\n",
    "        pd.DataFrame: A new DataFrame with rows containing missing values removed.\n",
    "    \"\"\"\n",
    "    return df.dropna()\n",
    "\n",
    "if __name__ == '__main__':\n",
    "    data = {'col1': [1, 2, np.nan, 4, 5],\n",
    "            'col2': [10, np.nan, 30, 40, 50],\n",
    "            'col3': ['A', 'B', 'C', np.nan, 'E']}\n",
    "    df = pd.DataFrame(data)\n",
    "\n",
    "    print(\"Original DataFrame:\")\n",
    "    print(df)\n",
    "\n",
    "    df_dropped = handle_missing_values_drop(df.copy())\n",
    "    print(\"\\nDataFrame after dropping rows with missing values:\")\n",
    "    print(df_dropped)"
   ]
  },
  {
   "cell_type": "markdown",
   "metadata": {},
   "source": [
    "### Task 4: Feature Scaling - Standardization\n",
    "**Description**: Standardize a numerical feature to have zero mean and unit variance."
   ]
  },
  {
   "cell_type": "code",
   "execution_count": null,
   "metadata": {},
   "outputs": [],
   "source": [
    "# write your code from here\n",
    "# write your code from here\n",
    "import pandas as pd\n",
    "from sklearn.preprocessing import StandardScaler\n",
    "\n",
    "def feature_scaling_standardization(series):\n",
    "    \"\"\"\n",
    "    Standardizes a numerical pandas Series to have zero mean and unit variance.\n",
    "\n",
    "    Args:\n",
    "        series (pd.Series): The input numerical pandas Series to be standardized.\n",
    "\n",
    "    Returns:\n",
    "        pd.Series: A new pandas Series with standardized values.\n",
    "    \"\"\"\n",
    "    scaler = StandardScaler()\n",
    "    return pd.Series(scaler.fit_transform(series.values.reshape(-1, 1)).flatten(), index=series.index)\n",
    "\n",
    "if __name__ == '__main__':\n",
    "    data = {'numerical_feature': [10, 20, 30, 40, 50, -10]}\n",
    "    df = pd.DataFrame(data)\n",
    "    numerical_series = df['numerical_feature']\n",
    "\n",
    "    print(\"Original Series:\")\n",
    "    print(numerical_series)\n",
    "\n",
    "    standardized_series = feature_scaling_standardization(numerical_series)\n",
    "    print(\"\\nStandardized Series (Zero Mean, Unit Variance):\")\n",
    "    print(standardized_series)"
   ]
  }
 ],
 "metadata": {
  "kernelspec": {
   "display_name": "base",
   "language": "python",
   "name": "python3"
  },
  "language_info": {
   "name": "python",
   "version": "3.12.7"
  }
 },
 "nbformat": 4,
 "nbformat_minor": 2
}
