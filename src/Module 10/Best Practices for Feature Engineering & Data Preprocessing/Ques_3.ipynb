{
 "cells": [
  {
   "cell_type": "markdown",
   "metadata": {},
   "source": [
    "### Feature Selection - Variance Threshold\n",
    "**Description**: Remove features with low variance."
   ]
  },
  {
   "cell_type": "code",
   "execution_count": null,
   "metadata": {},
   "outputs": [],
   "source": [
    "# write your code from here\n",
    "# write your code from here\n",
    "import pandas as pd\n",
    "import numpy as np\n",
    "from sklearn.feature_selection import VarianceThreshold\n",
    "def feature_selection_variance_threshold(df, threshold=0.1):\n",
    "    \"\"\"\n",
    "    Removes features with low variance from a DataFrame.\n",
    "    Args:\n",
    "        df (pd.DataFrame): The input DataFrame.\n",
    "        threshold (float, optional): The variance threshold. Features with variance\n",
    "            below this value will be removed. Defaults to 0.1.\n",
    "    Returns:\n",
    "        pd.DataFrame: A new DataFrame with low-variance features removed.\n",
    "    \"\"\"\n",
    "    original_columns = df.columns\n",
    "    selector = VarianceThreshold(threshold=threshold)\n",
    "    selector.fit(df)\n",
    "    selected_features_indices = selector.get_support(indices=True)\n",
    "    selected_features = [original_columns[i] for i in selected_features_indices]\n",
    "    return df[selected_features]\n",
    "if __name__ == '__main__':\n",
    "    data = {'feature1': [1, 1, 1, 1, 1, 1, 1],\n",
    "            'feature2': [1, 2, 1, 2, 1, 2, 1],\n",
    "            'feature3': [10, 20, 30, 40, 50, 60, 70],\n",
    "            'feature4': [0, 0, 0, 0, 1, 1, 1],\n",
    "            'target': [0, 1, 0, 1, 0, 1, 0]}\n",
    "    df = pd.DataFrame(data)\n",
    "    print(\"Original DataFrame:\")\n",
    "    print(df)\n",
    "    df_selected = feature_selection_variance_threshold(df.copy(), threshold=0.1)\n",
    "    print(\"\\nDataFrame after removing low variance features (threshold=0.1):\")\n",
    "    print(df_selected)\n",
    "    df_selected_2 = feature_selection_variance_threshold(df.copy(), threshold=0.0)\n",
    "    print(\"\\nDataFrame after removing low variance features (threshold=0.0):\")\n",
    "    print(df_selected_2)"
   ]
  }
 ],
 "metadata": {
  "kernelspec": {
   "display_name": "base",
   "language": "python",
   "name": "python3"
  },
  "language_info": {
   "name": "python",
   "version": "3.12.7"
  }
 },
 "nbformat": 4,
 "nbformat_minor": 2
}
