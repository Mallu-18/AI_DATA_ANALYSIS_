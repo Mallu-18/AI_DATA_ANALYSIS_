{
 "cells": [
  {
   "cell_type": "markdown",
   "metadata": {},
   "source": [
    "### Handling Missing Values - Imputation within ML Pipelines\n",
    "**Description**: Implement a machine learning pipeline that includes imputation and a classifier."
   ]
  },
  {
   "cell_type": "code",
   "execution_count": null,
   "metadata": {},
   "outputs": [],
   "source": [
    "# write your code from here\n",
    "import pandas as pd\n",
    "import numpy as np\n",
    "from sklearn.pipeline import Pipeline\n",
    "from sklearn.impute import SimpleImputer\n",
    "from sklearn.preprocessing import StandardScaler\n",
    "from sklearn.linear_model import LogisticRegression\n",
    "from sklearn.model_selection import train_test_split\n",
    "from sklearn.metrics import accuracy_score\n",
    "def create_ml_pipeline_with_imputation(strategy='mean'):\n",
    "    \"\"\"\n",
    "    Creates a machine learning pipeline with imputation, scaling, and logistic regression.\n",
    "    Args:\n",
    "        strategy (str, optional): The imputation strategy.  'mean', 'median', or 'most_frequent'.\n",
    "            Defaults to 'mean'.\n",
    "    Returns:\n",
    "        sklearn.pipeline.Pipeline: The machine learning pipeline.\n",
    "    \"\"\"\n",
    "    if strategy not in ['mean', 'median', 'most_frequent']:\n",
    "        raise ValueError(\"Invalid imputation strategy.  Choose 'mean', 'median', or 'most_frequent'.\")\n",
    "    pipeline = Pipeline([\n",
    "        ('imputer', SimpleImputer(strategy=strategy)),\n",
    "        ('scaler', StandardScaler()),\n",
    "        ('classifier', LogisticRegression())\n",
    "    ])\n",
    "    return pipeline\n",
    "if __name__ == '__main__':\n",
    "    data = {'feature1': [1, 2, np.nan, 4, 5, np.nan, 7],\n",
    "            'feature2': [10, 20, 30, np.nan, 50, 60, 70],\n",
    "            'target': [0, 1, 0, 1, 0, 1, 0]}\n",
    "    df = pd.DataFrame(data)\n",
    "    X = df.drop('target', axis=1)\n",
    "    y = df['target']\n",
    "    X_train, X_test, y_train, y_test = train_test_split(X, y, test_size=0.2, random_state=42)\n",
    "    for strategy in ['mean', 'median', 'most_frequent']:\n",
    "        print(f\"\\nImputation Strategy: {strategy}\")\n",
    "        pipeline = create_ml_pipeline_with_imputation(strategy=strategy)\n",
    "        pipeline.fit(X_train, y_train)\n",
    "        y_pred = pipeline.predict(X_test)\n",
    "        accuracy = accuracy_score(y_test, y_pred)\n",
    "        print(f\"Accuracy: {accuracy:.2f}\")"
   ]
  }
 ],
 "metadata": {
  "kernelspec": {
   "display_name": "base",
   "language": "python",
   "name": "python3"
  },
  "language_info": {
   "name": "python",
   "version": "3.12.7"
  }
 },
 "nbformat": 4,
 "nbformat_minor": 2
}
