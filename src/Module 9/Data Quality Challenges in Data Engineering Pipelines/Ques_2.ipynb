{
 "cells": [
  {
   "cell_type": "markdown",
   "metadata": {},
   "source": [
    "### Task 1: Handling Schema Mismatches using Spark\n",
    "**Description**: Use Apache Spark to address schema mismatches by transforming data to match\n",
    "the expected schema.\n",
    "\n",
    "**Steps**:\n",
    "1. Create Spark session\n",
    "2. Load dataframe\n",
    "3. Define the expected schema\n",
    "4. Handle schema mismatches\n",
    "5. Show corrected data"
   ]
  },
  {
   "cell_type": "code",
   "execution_count": null,
   "metadata": {},
   "outputs": [],
   "source": [
    "# Step 1: Create Spark session\n",
    "from pyspark.sql import SparkSession\n",
    "\n",
    "spark = SparkSession.builder \\\n",
    "    .appName(\"SchemaMismatchHandling\") \\\n",
    "    .getOrCreate()\n",
    "\n",
    "# Step 2: Load dataframe with schema mismatch (e.g., incorrect data types or missing fields)\n",
    "data = [\n",
    "    {\"id\": \"1\", \"name\": \"Alice\", \"age\": \"25\"},  # age should be int\n",
    "    {\"id\": \"2\", \"name\": \"Bob\", \"age\": \"30\"},\n",
    "    {\"id\": \"3\", \"name\": \"Charlie\", \"age\": None},  # missing age\n",
    "]\n",
    "\n",
    "df_raw = spark.createDataFrame(data)\n",
    "print(\"Original DataFrame with schema mismatch:\")\n",
    "df_raw.printSchema()\n",
    "df_raw.show()\n",
    "\n",
    "# Step 3: Define the expected schema\n",
    "from pyspark.sql.types import StructType, StructField, IntegerType, StringType\n",
    "\n",
    "expected_schema = StructType([\n",
    "    StructField(\"id\", IntegerType(), True),\n",
    "    StructField(\"name\", StringType(), True),\n",
    "    StructField(\"age\", IntegerType(), True),\n",
    "])\n",
    "\n",
    "# Step 4: Handle schema mismatches (e.g., cast columns)\n",
    "from pyspark.sql.functions import col\n",
    "\n",
    "df_corrected = df_raw \\\n",
    "    .withColumn(\"id\", col(\"id\").cast(\"int\")) \\\n"
   ]
  },
  {
   "cell_type": "markdown",
   "metadata": {},
   "source": [
    "### Task 2: Detect and Correct Incomplete Data in ETL\n",
    "**Description**: Use Python and Pandas to detect incomplete data in an ETL process and fill\n",
    "missing values with estimates.\n",
    "\n",
    "**Steps**:\n",
    "1. Detect incomplete data\n",
    "2. Fill missing values\n",
    "3. Report changes"
   ]
  },
  {
   "cell_type": "code",
   "execution_count": null,
   "metadata": {},
   "outputs": [],
   "source": [
    "# Write your code from here\n",
    "\n",
    "import pandas as pd\n",
    "import numpy as np\n",
    "\n",
    "# Sample ETL input: DataFrame with missing values\n",
    "data = {\n",
    "    \"customer_id\": [101, 102, 103, 104, 105],\n",
    "    \"name\": [\"Alice\", \"Bob\", \"Charlie\", None, \"Eve\"],\n",
    "    \"age\": [25, np.nan, 30, 22, np.nan],\n",
    "    \"purchase_amount\": [100.5, 250.0, None, 175.0, 200.0]\n",
    "}\n",
    "\n",
    "df = pd.DataFrame(data)\n",
    "print(\"Original Data with Missing Values:\")\n",
    "print(df)\n",
    "\n",
    "# Step 1: Detect incomplete data\n",
    "missing_report = df.isnull().sum()\n",
    "print(\"\\nMissing Values Report:\")\n",
    "print(missing_report)\n",
    "\n",
    "# Step 2: Fill missing values (e.g., mean for numerical, placeholder for strings)\n",
    "df[\"name\"].fillna(\"Unknown\", inplace=True)\n",
    "df[\"age\"].fillna(df[\"age\"].mean(), inplace=True)\n",
    "df[\"purchase_amount\"].fillna(df[\"purchase_amount\"].mean(), inplace=True)\n",
    "\n",
    "# Step 3: Report changes\n",
    "print(\"\\nData After Filling Missing Values:\")\n",
    "print(df)\n"
   ]
  }
 ],
 "metadata": {
  "kernelspec": {
   "display_name": "base",
   "language": "python",
   "name": "python3"
  },
  "language_info": {
   "name": "python",
   "version": "3.12.7"
  }
 },
 "nbformat": 4,
 "nbformat_minor": 2
}
