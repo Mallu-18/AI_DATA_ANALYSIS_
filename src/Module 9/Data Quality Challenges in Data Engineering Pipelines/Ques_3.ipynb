{
 "cells": [
  {
   "cell_type": "markdown",
   "metadata": {},
   "source": [
    "### Metadata Management for Data Quality\n",
    "**Description**: Store and use metadata to manage data quality in a pipeline.\n",
    "\n",
    "**Steps**:\n",
    "1. Load metadata\n",
    "2. Load data\n",
    "3. Use metadata to validate data quality\n",
    "4. Show valid data\n"
   ]
  },
  {
   "cell_type": "code",
   "execution_count": null,
   "metadata": {},
   "outputs": [],
   "source": [
    "# write your code from here\n",
    "\n",
    "import pandas as pd\n",
    "\n",
    "# Step 1: Load metadata (this could be from a config, JSON, or DB — here we use a dictionary)\n",
    "# Metadata defines expected column names, types, value ranges, etc.\n",
    "metadata = {\n",
    "    \"columns\": {\n",
    "        \"id\": {\"type\": \"int\", \"required\": True},\n",
    "        \"name\": {\"type\": \"str\", \"required\": True},\n",
    "        \"age\": {\"type\": \"int\", \"min\": 18, \"max\": 99, \"required\": True}\n",
    "    }\n",
    "}\n",
    "\n",
    "# Step 2: Load data (simulating input to the pipeline)\n",
    "data = {\n",
    "    \"id\": [1, 2, 3, 4],\n",
    "    \"name\": [\"Alice\", \"Bob\", None, \"Dave\"],\n",
    "    \"age\": [25, 17, 35, 100]\n",
    "}\n",
    "\n",
    "df = pd.DataFrame(data)\n",
    "print(\"Raw Data:\")\n",
    "print(df)\n",
    "\n",
    "# Step 3: Use metadata to validate data quality\n",
    "# Validate required fields\n",
    "for col, rules in metadata[\"columns\"].items():\n",
    "    if rules.get(\"required\", False):\n",
    "        df = df[df[col].notnull()]\n",
    "\n",
    "# Validate data types (simple check)\n",
    "for col, rules in metadata[\"columns\"].items():\n",
    "    expected_type = rules[\"type\"]\n",
    "    if expected_type == \"int\":\n",
    "        df = df[pd.to_numeric(df[col], errors='coerce').notnull()]\n",
    "\n",
    "# Validate value ranges\n",
    "for col, rules in metadata[\"columns\"].items():\n",
    "    if \"min\" in rules:\n",
    "        df = df[df[col] >= rules[\"min\"]]\n",
    "    if \"max\" in rules:\n",
    "        df = df[df[col] <= rules[\"max\"]]\n",
    "\n",
    "# Step 4: Show valid data\n",
    "print(\"\\nValidated Data (According to Metadata):\")\n",
    "print(df)\n"
   ]
  }
 ],
 "metadata": {
  "kernelspec": {
   "display_name": "base",
   "language": "python",
   "name": "python3"
  },
  "language_info": {
   "name": "python",
   "version": "3.12.7"
  }
 },
 "nbformat": 4,
 "nbformat_minor": 2
}
