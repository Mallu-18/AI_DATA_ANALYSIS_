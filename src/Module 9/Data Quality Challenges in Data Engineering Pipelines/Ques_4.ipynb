{
 "cells": [
  {
   "cell_type": "markdown",
   "metadata": {},
   "source": [
    "### Complex Schema Validation with Avro\n",
    "**Description**: Implement a solution in Python to validate records against a complex nested Avro schema.\n",
    "\n",
    "Eg., Complex schema ( nested_schema.avsc ):\n",
    "\n",
    "**Steps**:\n",
    "1. Load schema\n",
    "2. Example data to validate\n",
    "3. Validate against schema\n",
    "4. Read back to check"
   ]
  },
  {
   "cell_type": "code",
   "execution_count": null,
   "metadata": {},
   "outputs": [],
   "source": [
    "# write your code from here\n",
    "\n",
    "import json\n",
    "from fastavro import parse_schema, validate, writer, reader\n",
    "\n",
    "# === Step 1: Load nested schema ===\n",
    "with open(\"nested_schema.avsc\", \"r\") as schema_file:\n",
    "    schema_json = json.load(schema_file)\n",
    "schema = parse_schema(schema_json)\n",
    "\n",
    "# === Step 2: Define records to validate ===\n",
    "valid_record = {\n",
    "    \"id\": 1,\n",
    "    \"name\": \"Alice\",\n",
    "    \"contact\": {\n",
    "        \"email\": \"alice@example.com\",\n",
    "        \"phone\": \"123-456-7890\"\n",
    "    },\n",
    "    \"is_active\": True\n",
    "}\n",
    "\n",
    "invalid_record = {\n",
    "    \"id\": \"one\",  # invalid: should be int\n",
    "    \"name\": \"Bob\",\n",
    "    \"contact\": {\n",
    "        \"email\": \"bob@example.com\",\n",
    "        \"phone\": None\n",
    "    },\n",
    "    \"is_active\": \"yes\"  # invalid: should be boolean\n",
    "}\n",
    "\n",
    "# === Step 3: Validate records ===\n",
    "print(\"Validating valid_record:\")\n",
    "print(\"Is valid?\", validate(valid_record, schema))\n",
    "\n",
    "print(\"\\nValidating invalid_record:\")\n",
    "print(\"Is valid?\", validate(invalid_record, schema))\n",
    "\n",
    "# === Step 4: Write valid record to Avro file ===\n",
    "if validate(valid_record, schema):\n",
    "    with open(\"user.avro\", \"wb\") as out_file:\n",
    "        writer(out_file, schema, [valid_record])\n",
    "    print(\"\\nValid record written to 'user.avro'\")\n",
    "\n",
    "# === Step 5: Read back from Avro file ===\n",
    "try:\n",
    "    with open(\"user.avro\", \"rb\") as in_file:\n",
    "        print(\"\\nReading back record from 'user.avro':\")\n",
    "        for rec in reader(in_file):\n",
    "            print(rec)\n",
    "except FileNotFoundError:\n",
    "    print(\"\\nNo Avro file found to read back.\")\n"
   ]
  }
 ],
 "metadata": {
  "kernelspec": {
   "display_name": "base",
   "language": "python",
   "name": "python3"
  },
  "language_info": {
   "name": "python",
   "version": "3.12.7"
  }
 },
 "nbformat": 4,
 "nbformat_minor": 2
}
