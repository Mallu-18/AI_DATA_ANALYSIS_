{
 "cells": [
  {
   "cell_type": "markdown",
   "metadata": {},
   "source": [
    "### Task 1: Detecting Missing Values during Data Ingestion\n",
    "**Description**: You have a CSV file with missing values in some columns. Write a Python script to detect and report missing values during the ingestion process.\n",
    "\n",
    "**Steps**:\n",
    "1. Load data\n",
    "2. Check for missing values\n",
    "3. Report missing values"
   ]
  },
  {
   "cell_type": "code",
   "execution_count": null,
   "metadata": {},
   "outputs": [],
   "source": [
    "# Write your code from here\n",
    "#\n",
    "import pandas as pd\n",
    "import os\n",
    "if os.path.exists('data.csv'):\n",
    " df=pd.read_csv('data.csv')\n",
    " missing=df.isnull().sum()\n",
    " print(missing[missing>0])\n",
    "else:\n",
    " print('data.csv not found')\n"
   ]
  },
  {
   "cell_type": "markdown",
   "metadata": {},
   "source": [
    "### Task 2: Validate Data Types during Extraction\n",
    "**Description**: You have a JSON file that should have specific data types for each field. Write a script to validate if the data types match the expected schema.\n",
    "\n",
    "**Steps**:\n",
    "1. Define expected schema\n",
    "2. Validate data types"
   ]
  },
  {
   "cell_type": "code",
   "execution_count": null,
   "metadata": {},
   "outputs": [],
   "source": [
    "# Write your code from here\n",
    "\n",
    "import pandas as pd\n",
    "import os\n",
    "if os.path.exists('data.json'):\n",
    " df=pd.read_json('data.json')\n",
    " schema={'id':int,'name':str,'age':int,'email':str}\n",
    " invalid={col:df[~df[col].map(type).eq(dtype)] for col,dtype in schema.items() if col in df and not df[col].map(type).eq(dtype).all()}\n",
    " print(invalid)\n",
    "else:\n",
    " print('data.json not found')"
   ]
  },
  {
   "cell_type": "markdown",
   "metadata": {},
   "source": [
    "### Task 3: Remove Duplicate Records in Data\n",
    "**Description**: You have a dataset with duplicate entries. Write a Python script to find and remove duplicate records using Pandas.\n",
    "\n",
    "**Steps**:\n",
    "1. Find duplicate records\n",
    "2. Remove duplicates\n",
    "3. Report results"
   ]
  },
  {
   "cell_type": "code",
   "execution_count": null,
   "metadata": {},
   "outputs": [],
   "source": [
    "# Write your code from here\n",
    "\n",
    "import pandas as pd\n",
    "import os\n",
    "if os.path.exists('data.csv'):\n",
    " df=pd.read_csv('data.csv')\n",
    " dup=df.duplicated()\n",
    " df=df.drop_duplicates()\n",
    " print(f'{dup.sum()} duplicates removed')\n",
    "else:\n",
    " print('data.csv not found')"
   ]
  }
 ],
 "metadata": {
  "kernelspec": {
   "display_name": "base",
   "language": "python",
   "name": "python3"
  },
  "language_info": {
   "name": "python",
   "version": "3.12.7"
  }
 },
 "nbformat": 4,
 "nbformat_minor": 2
}
