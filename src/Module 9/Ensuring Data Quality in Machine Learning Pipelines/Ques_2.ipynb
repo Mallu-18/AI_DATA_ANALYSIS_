{
 "cells": [
  {
   "cell_type": "markdown",
   "metadata": {},
   "source": [
    "### Bias & Fairness in Data: Distribution Check\n",
    "**Description**: Load the Adult Income dataset and check for representation bias by analyzing the distribution of gender across different income levels."
   ]
  },
  {
   "cell_type": "code",
   "execution_count": null,
   "metadata": {},
   "outputs": [],
   "source": [
    "# write your code from here\n",
    "\n",
    "import pandas as pd\n",
    "import seaborn as sns\n",
    "import matplotlib.pyplot as plt\n",
    "\n",
    "# Step 1: Load the dataset (auto-download from UCI repo)\n",
    "url = \"https://archive.ics.uci.edu/ml/machine-learning-databases/adult/adult.data\"\n",
    "columns = [\n",
    "    \"age\", \"workclass\", \"fnlwgt\", \"education\", \"education-num\", \"marital-status\",\n",
    "    \"occupation\", \"relationship\", \"race\", \"sex\", \"capital-gain\", \"capital-loss\",\n",
    "    \"hours-per-week\", \"native-country\", \"income\"\n",
    "]\n",
    "\n",
    "df = pd.read_csv(url, header=None, names=columns, na_values=\" ?\", skipinitialspace=True)\n",
    "\n",
    "# Step 2: Clean data\n",
    "df.dropna(inplace=True)\n",
    "\n",
    "# Step 3: Analyze gender distribution across income levels\n",
    "gender_income_counts = df.groupby(['income', 'sex']).size().unstack()\n",
    "gender_income_percentage = gender_income_counts.div(gender_income_counts.sum(axis=1), axis=0) * 100\n",
    "\n",
    "print(\"🔍 Gender Distribution (%) across Income Levels:\\n\")\n",
    "print(gender_income_percentage.round(2))\n",
    "\n",
    "# Step 4: Visualize\n",
    "plt.figure(figsize=(8, 5))\n",
    "sns.countplot(data=df, x=\"income\", hue=\"sex\")\n",
    "plt.title(\"Gender Representation Across Income Levels\")\n",
    "plt.ylabel(\"Number of Individuals\")\n",
    "plt.xlabel(\"Income Category\")\n",
    "plt.legend(title=\"Gender\")\n",
    "plt.tight_layout()\n",
    "plt.show()\n"
   ]
  }
 ],
 "metadata": {
  "kernelspec": {
   "display_name": "base",
   "language": "python",
   "name": "python3"
  },
  "language_info": {
   "name": "python",
   "version": "3.12.7"
  }
 },
 "nbformat": 4,
 "nbformat_minor": 2
}
