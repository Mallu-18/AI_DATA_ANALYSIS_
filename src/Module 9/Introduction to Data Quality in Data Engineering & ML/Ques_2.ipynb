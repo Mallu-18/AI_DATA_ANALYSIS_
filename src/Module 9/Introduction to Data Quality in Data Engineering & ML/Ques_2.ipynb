{
 "cells": [
  {
   "cell_type": "markdown",
   "metadata": {},
   "source": [
    "### Imputing Missing Data\n",
    "**Description**: Impute missing data using various strategies like mean, median, or mode."
   ]
  },
  {
   "cell_type": "code",
   "execution_count": null,
   "metadata": {},
   "outputs": [],
   "source": [
    "# Write your code from here\n",
    "#write \n",
    "import numpy as np\n",
    "import pandas as pd\n",
    "from sklearn.impute import SimpleImputer, KNNImputer\n",
    "from sklearn.experimental import enable_iterative_imputer\n",
    "from sklearn.impute import IterativeImputer\n",
    "import matplotlib.pyplot as plt\n",
    "def impute_missing_data(data, strategy='mean', n_neighbors=5):\n",
    "    data_copy = data.copy()\n",
    "    if strategy in ['mean', 'median', 'most_frequent', 'constant']:\n",
    "        imputer = SimpleImputer(strategy=strategy, fill_value=0 if strategy=='constant' else None)\n",
    "        imputed_data = imputer.fit_transform(data_copy)\n",
    "    elif strategy == 'knn':\n",
    "        imputer = KNNImputer(n_neighbors=n_neighbors)\n",
    "        imputed_data = imputer.fit_transform(data_copy)\n",
    "    elif strategy == 'mice':\n",
    "        imputer = IterativeImputer(max_iter=10, random_state=42)\n",
    "        imputed_data = imputer.fit_transform(data_copy)\n",
    "    else:\n",
    "        raise ValueError(\"Invalid strategy. Choose from: mean, median, most_frequent, constant, knn, mice\")\n",
    "    return pd.DataFrame(imputed_data, columns=data.columns)\n",
    "def visualize_missing_data(original, imputed, column_name, strategy):\n",
    "    plt.figure(figsize=(12, 6))\n",
    "    plt.subplot(1, 2, 1)\n",
    "    plt.hist(original[column_name].dropna(), bins=30, alpha=0.7, color='red', label='Original')\n",
    "    plt.title(f'Original Data (with missing)')\n",
    "    plt.legend()\n",
    "    plt.subplot(1, 2, 2)\n",
    "    plt.hist(imputed[column_name], bins=30, alpha=0.7, color='blue', label='Imputed')\n",
    "    plt.title(f'After {strategy} Imputation')\n",
    "    plt.legend()\n",
    "    plt.tight_layout()\n",
    "    plt.show()\n",
    "np.random.seed(42)\n",
    "data = pd.DataFrame({\n",
    "    'Age': np.random.normal(35, 10, 100),\n",
    "    'Income': np.random.lognormal(4, 0.5, 100),\n",
    "    'Score': np.random.randint(1, 11, 100)\n",
    "})\n",
    "for col in data.columns:\n",
    "    mask = np.random.choice([True, False], size=len(data), p=[0.2, 0.8])\n",
    "    data.loc[mask, col] = np.nan\n",
    "print(\"Original Data with Missing Values:\")\n",
    "print(data.head())\n",
    "print(\"\\nMissing Value Counts:\")\n",
    "print(data.isnull().sum())\n",
    "strategies = ['mean', 'median', 'most_frequent', 'knn', 'mice']\n",
    "for strategy in strategies:\n",
    "    print(f\"\\nImputing with {strategy.upper()} strategy:\")\n",
    "    imputed_data = impute_missing_data(data, strategy=strategy)\n",
    "    print(imputed_data.head())\n",
    "    visualize_missing_data(data, imputed_data, 'Age', strategy)"
   ]
  }
 ],
 "metadata": {
  "kernelspec": {
   "display_name": "base",
   "language": "python",
   "name": "python3"
  },
  "language_info": {
   "name": "python",
   "version": "3.12.7"
  }
 },
 "nbformat": 4,
 "nbformat_minor": 2
}
