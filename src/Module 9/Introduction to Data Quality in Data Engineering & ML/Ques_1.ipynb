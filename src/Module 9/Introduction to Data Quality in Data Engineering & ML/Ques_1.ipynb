{
 "cells": [
  {
   "cell_type": "markdown",
   "metadata": {},
   "source": [
    "### Detect Data Drift\n",
    "**Description**: Data drift can occur when the statistical properties of your data change over time. Learn to detect data drift using visualizations."
   ]
  },
  {
   "cell_type": "code",
   "execution_count": null,
   "metadata": {},
   "outputs": [],
   "source": [
    "# Write your code from here\n",
    "\n",
    "import pandas as pd\n",
    "import numpy as np\n",
    "import matplotlib.pyplot as plt\n",
    "import seaborn as sns\n",
    "from scipy import stats\n",
    "from sklearn.metrics import mutual_info_score\n",
    "from scipy.spatial import distance\n",
    "def detect_data_drift(reference_data, current_data, feature_name):\n",
    "    reference_feature = reference_data[feature_name]\n",
    "    current_feature = current_data[feature_name]\n",
    "    plt.figure(figsize=(18, 12))\n",
    "    plt.subplot(2, 2, 1)\n",
    "    sns.kdeplot(reference_feature, label='Reference', shade=True)\n",
    "    sns.kdeplot(current_feature, label='Current', shade=True)\n",
    "    plt.title(f'KDE Plot of {feature_name}')\n",
    "    plt.legend()\n",
    "    plt.subplot(2, 2, 2)\n",
    "    plt.boxplot([reference_feature, current_feature], labels=['Reference', 'Current'])\n",
    "    plt.title(f'Boxplot Comparison')\n",
    "    plt.subplot(2, 2, 3)\n",
    "    stats.probplot(reference_feature, dist=\"norm\", plot=plt)\n",
    "    plt.title('Reference Data Q-Q Plot')\n",
    "    plt.subplot(2, 2, 4)\n",
    "    stats.probplot(current_feature, dist=\"norm\", plot=plt)\n",
    "    plt.title('Current Data Q-Q Plot')\n",
    "    plt.tight_layout()\n",
    "    plt.show()\n",
    "    ks_stat, ks_p = stats.ks_2samp(reference_feature, current_feature)\n",
    "    t_stat, t_p = stats.ttest_ind(reference_feature, current_feature)\n",
    "    mi_score = mutual_info_score(reference_feature, current_feature)\n",
    "    js_dist = distance.jensenshannon(reference_feature, current_feature)\n",
    "    print(f\"Statistical Tests Results:\")\n",
    "    print(f\"KS Test: Statistic={ks_stat:.4f}, p-value={ks_p:.4f}\")\n",
    "    print(f\"T-Test: Statistic={t_stat:.4f}, p-value={t_p:.4f}\")\n",
    "    print(f\"Mutual Information Score: {mi_score:.4f}\")\n",
    "    print(f\"Jensen-Shannon Distance: {js_dist:.4f}\")\n",
    "    drift_detected = False\n",
    "    if ks_p < 0.05:\n",
    "        print(\"KS Test: Significant drift detected (p < 0.05)\")\n",
    "        drift_detected = True\n",
    "    if t_p < 0.05:\n",
    "        print(\"T-Test: Significant mean difference detected (p < 0.05)\")\n",
    "        drift_detected = True\n",
    "    if js_dist > 0.1:\n",
    "        print(f\"JS Distance: Significant distribution change (JS > 0.1)\")\n",
    "        drift_detected = True\n",
    "    \n",
    "    if not drift_detected:\n",
    "        print(\"No significant drift detected across all metrics\")\n",
    "np.random.seed(42)\n",
    "ref_data = pd.DataFrame({'feature': np.random.normal(0, 1, 1000)})\n",
    "curr_data = pd.DataFrame({'feature': np.random.normal(0.5, 1.2, 1000)})\n",
    "detect_data_drift(ref_data, curr_data, 'feature')"
   ]
  }
 ],
 "metadata": {
  "kernelspec": {
   "display_name": "base",
   "language": "python",
   "name": "python3"
  },
  "language_info": {
   "name": "python",
   "version": "3.12.7"
  }
 },
 "nbformat": 4,
 "nbformat_minor": 2
}
