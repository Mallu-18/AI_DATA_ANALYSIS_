{
 "cells": [
  {
   "cell_type": "code",
   "execution_count": null,
   "metadata": {},
   "outputs": [],
   "source": [
    "# Seaborn Plot - Heatmap\n",
    "# Objective: Create a heatmap to visualize a correlation matrix with Seaborn, using\n",
    "# advanced styling.\n",
    "\n",
    "import seaborn as sns\n",
    "import matplotlib.pyplot as plt\n",
    "\n",
    "# Load the iris dataset\n",
    "iris = sns.load_dataset(\"iris\")\n",
    "\n",
    "# Compute the correlation matrix\n",
    "corr_matrix = iris.drop(\"species\", axis=1).corr()\n",
    "\n",
    "# Set the plot style\n",
    "sns.set(style=\"white\")\n",
    "\n",
    "# Create the heatmap with advanced styling\n",
    "plt.figure(figsize=(8, 6))\n",
    "sns.heatmap(\n",
    "    corr_matrix,\n",
    "    annot=True,               # Show correlation coefficients\n",
    "    fmt=\".2f\",                # Format to 2 decimal places\n",
    "    cmap=\"coolwarm\",          # Color map for better contrast\n",
    "    linewidths=0.5,           # Add lines between cells\n",
    "    linecolor=\"gray\",         # Color of grid lines\n",
    "    cbar_kws={\"shrink\": 0.8}  # Shrink color bar\n",
    ")\n",
    "\n",
    "# Customize title and layout\n",
    "plt.title(\"Correlation Heatmap of Iris Dataset Features\", fontsize=16, fontweight='bold')\n",
    "plt.tight_layout()\n",
    "\n",
    "# Show the plot\n",
    "plt.show()"
   ]
  }
 ],
 "metadata": {
  "language_info": {
   "name": "python"
  }
 },
 "nbformat": 4,
 "nbformat_minor": 2
}
