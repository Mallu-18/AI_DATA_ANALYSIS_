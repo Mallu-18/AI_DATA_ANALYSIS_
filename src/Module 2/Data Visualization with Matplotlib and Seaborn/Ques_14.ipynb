{
 "cells": [
  {
   "cell_type": "code",
   "execution_count": null,
   "metadata": {},
   "outputs": [],
   "source": [
    "# Styling with Matplotlib - Line Plot\n",
    "# Objective: Create a line plot with customized styles using Matplotlib.\n",
    "\n",
    "import matplotlib.pyplot as plt\n",
    "import numpy as np\n",
    "\n",
    "# Generate sample data\n",
    "x = np.linspace(0, 10, 100)\n",
    "y1 = np.sin(x)\n",
    "y2 = np.cos(x)\n",
    "\n",
    "# Set figure size and background\n",
    "plt.figure(figsize=(10, 6), facecolor='white')\n",
    "\n",
    "# Plot two lines with custom styles\n",
    "plt.plot(x, y1, label=\"Sine Wave\", color=\"royalblue\", linewidth=2.5, linestyle=\"--\", marker='o', markersize=5)\n",
    "plt.plot(x, y2, label=\"Cosine Wave\", color=\"crimson\", linewidth=2.5, linestyle=\"-.\", marker='s', markersize=5)\n",
    "\n",
    "# Customize axes, title, legend, and grid\n",
    "plt.title(\"Styled Line Plot of Sine and Cosine Functions\", fontsize=16, fontweight='bold')\n",
    "plt.xlabel(\"X Value\", fontsize=12)\n",
    "plt.ylabel(\"Y Value\", fontsize=12)\n",
    "plt.grid(True, linestyle=\":\", linewidth=1, alpha=0.7)\n",
    "plt.legend(title=\"Functions\", fontsize=10)\n",
    "plt.tight_layout()\n",
    "\n",
    "# Show the plot\n",
    "plt.show()"
   ]
  }
 ],
 "metadata": {
  "language_info": {
   "name": "python"
  }
 },
 "nbformat": 4,
 "nbformat_minor": 2
}
