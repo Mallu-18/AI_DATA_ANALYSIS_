{
 "cells": [
  {
   "cell_type": "code",
   "execution_count": null,
   "metadata": {},
   "outputs": [],
   "source": [
    "# Advanced Scatter Plot with Seaborn\n",
    "# Description: Using Seaborn, enhance the scatter plot for height vs. weight by adding size for points based\n",
    "# on data: Size [10, 15, 13, 18, 12].\n",
    "import seaborn as sns\n",
    "import matplotlib.pyplot as plt\n",
    "import pandas as pd\n",
    "\n",
    "# Sample data\n",
    "data = {\n",
    "    'Height': [150, 160, 165, 170, 180],\n",
    "    'Weight': [50, 60, 65, 70, 80],\n",
    "    'Size': [10, 15, 13, 18, 12]  # Custom sizes for the points\n",
    "}\n",
    "\n",
    "# Convert to DataFrame\n",
    "df = pd.DataFrame(data)\n",
    "\n",
    "# Set Seaborn style\n",
    "sns.set(style=\"whitegrid\")\n",
    "\n",
    "# Create scatter plot\n",
    "plt.figure(figsize=(8, 6))\n",
    "scatter = sns.scatterplot(\n",
    "    data=df,\n",
    "    x='Height',\n",
    "    y='Weight',\n"
   ]
  }
 ],
 "metadata": {
  "language_info": {
   "name": "python"
  }
 },
 "nbformat": 4,
 "nbformat_minor": 2
}
