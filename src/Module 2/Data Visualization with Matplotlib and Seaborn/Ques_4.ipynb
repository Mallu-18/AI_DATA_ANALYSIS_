{
 "cells": [
  {
   "cell_type": "code",
   "execution_count": null,
   "metadata": {},
   "outputs": [],
   "source": [
    "# Basic Seaborn Bar Plot\n",
    "# Description: Using Seaborn, plot the same bar plot from Question 1 to compare the sales data.\n",
    "\n",
    "import seaborn as sns\n",
    "import matplotlib.pyplot as plt\n",
    "import pandas as pd\n",
    "\n",
    "# Data\n",
    "products = ['A', 'B', 'C', 'D', 'E']\n",
    "sales = [23, 75, 57, 90, 65]  # in thousands\n",
    "\n",
    "# Create a DataFrame\n",
    "data = pd.DataFrame({'Product': products, 'Sales': sales})\n",
    "\n",
    "# Create bar plot using Seaborn\n",
    "plt.figure(figsize=(8, 5))\n",
    "sns.barplot(x='Product', y='Sales', data=data, palette='Blues_d')\n",
    "\n",
    "# Add labels and title\n",
    "plt.xlabel('Products')\n",
    "plt.ylabel('Sales (in thousands)')\n",
    "plt.title('Product Sales Comparison')\n",
    "\n",
    "# Show plot\n",
    "plt.tight_layout()\n",
    "plt.show()"
   ]
  }
 ],
 "metadata": {
  "language_info": {
   "name": "python"
  }
 },
 "nbformat": 4,
 "nbformat_minor": 2
}
