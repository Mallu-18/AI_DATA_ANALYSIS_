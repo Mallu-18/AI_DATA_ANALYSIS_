{
 "cells": [
  {
   "cell_type": "code",
   "execution_count": null,
   "metadata": {},
   "outputs": [],
   "source": [
    "# Advanced Seaborn Plot - Pairplot\n",
    "# Objective: Use Seaborn to create a pairplot to visualize pairwise relationships in a dataset.\n",
    "\n",
    "import seaborn as sns\n",
    "import matplotlib.pyplot as plt\n",
    "\n",
    "# Load the built-in tips dataset\n",
    "tips = sns.load_dataset(\"tips\")\n",
    "\n",
    "# Set plot aesthetics\n",
    "sns.set(style=\"ticks\")\n",
    "\n",
    "# Create the pairplot\n",
    "pair_plot = sns.pairplot(\n",
    "    data=tips,\n",
    "    hue=\"sex\",            # Differentiate by gender\n",
    "    diag_kind=\"kde\",      # Use KDE plots on the diagonal\n",
    "    palette=\"coolwarm\",   # Set a color palette\n",
    "    markers=[\"o\", \"s\"],   # Different markers for each sex\n",
    "    corner=True           # Only show lower triangle\n",
    ")\n",
    "\n",
    "# Add a title to the plot\n",
    "pair_plot.fig.suptitle(\"Pairwise Relationships in Tips Dataset\", y=1.02, fontsize=16)\n",
    "\n",
    "# Show the plot\n",
    "plt.show()"
   ]
  }
 ],
 "metadata": {
  "language_info": {
   "name": "python"
  }
 },
 "nbformat": 4,
 "nbformat_minor": 2
}
