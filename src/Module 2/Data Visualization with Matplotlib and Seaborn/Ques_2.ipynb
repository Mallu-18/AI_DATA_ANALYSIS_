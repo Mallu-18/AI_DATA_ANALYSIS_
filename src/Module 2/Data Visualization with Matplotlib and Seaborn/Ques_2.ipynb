{
 "cells": [
  {
   "cell_type": "code",
   "execution_count": null,
   "metadata": {},
   "outputs": [],
   "source": [
    "# Plotting a Scatter Plot with Matplotlib\n",
    "# Description: Plot a scatter plot to visualize the relationship between height in centimeters and weight in\n",
    "# kilograms for a population dataset: Heights [160, 170, 165, 180, 175] and Weights [55, 65, 60,\n",
    "# 80, 76].\n",
    "\n",
    "import matplotlib.pyplot as plt\n",
    "\n",
    "\n",
    "heights = [160, 170, 165, 180, 175]  \n",
    "weights = [55, 65, 60, 80, 76]       \n",
    "\n",
    "\n",
    "plt.figure(figsize=(8, 5))\n",
    "plt.scatter(heights, weights, color='purple', edgecolor='black', s=100)\n",
    "\n",
    "plt.xlabel('Height (cm)')\n",
    "plt.ylabel('Weight (kg)')\n",
    "plt.title('Height vs Weight Scatter Plot')\n",
    "plt.grid(True, linestyle='--', alpha=0.5)\n",
    "\n",
    "plt.tight_layout()\n",
    "plt.show()"
   ]
  }
 ],
 "metadata": {
  "language_info": {
   "name": "python"
  }
 },
 "nbformat": 4,
 "nbformat_minor": 2
}
