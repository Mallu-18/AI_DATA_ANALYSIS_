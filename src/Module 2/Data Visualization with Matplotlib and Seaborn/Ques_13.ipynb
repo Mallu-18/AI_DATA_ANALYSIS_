{
 "cells": [
  {
   "cell_type": "code",
   "execution_count": null,
   "metadata": {},
   "outputs": [],
   "source": [
    "# Customizing Plots with Seaborn - Boxplot\n",
    "# Objective: Customize a boxplot with Seaborn to show the distribution of petal lengths by\n",
    "# species.\n",
    "\n",
    "import seaborn as sns\n",
    "import matplotlib.pyplot as plt\n",
    "\n",
    "# Load the iris dataset\n",
    "iris = sns.load_dataset(\"iris\")\n",
    "\n",
    "# Set Seaborn style\n",
    "sns.set(style=\"whitegrid\")\n",
    "\n",
    "# Create the customized boxplot\n",
    "plt.figure(figsize=(8, 6))\n",
    "sns.boxplot(\n",
    "    data=iris,\n",
    "    x=\"species\",\n",
    "    y=\"petal_length\",\n",
    "    palette=\"Set2\",\n",
    "    width=0.6,\n",
    "    fliersize=5,\n",
    "    linewidth=2\n",
    ")\n",
    "\n",
    "# Add title and labels\n",
    "plt.title(\"Distribution of Petal Lengths by Iris Species\", fontsize=16)\n",
    "plt.xlabel(\"Species\", fontsize=12)\n",
    "plt.ylabel(\"Petal Length (cm)\", fontsize=12)\n",
    "plt.tight_layout()\n",
    "\n",
    "# Show the plot\n",
    "plt.show()"
   ]
  }
 ],
 "metadata": {
  "language_info": {
   "name": "python"
  }
 },
 "nbformat": 4,
 "nbformat_minor": 2
}
