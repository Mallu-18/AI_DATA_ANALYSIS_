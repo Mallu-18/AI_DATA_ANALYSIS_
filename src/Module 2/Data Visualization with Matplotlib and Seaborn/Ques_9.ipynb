{
 "cells": [
  {
   "cell_type": "code",
   "execution_count": null,
   "metadata": {},
   "outputs": [],
   "source": [
    "# Matplotlib Subplots for Multiple Data Sets\n",
    "# Description: Create subplots using Matplotlib to display the bar plot for product sales and the scatter plot for\n",
    "# height vs. weight side by side.\n",
    "\n",
    "import matplotlib.pyplot as plt\n",
    "\n",
    "# Sample data\n",
    "products = ['Product A', 'Product B', 'Product C']\n",
    "sales = [120, 150, 90]\n",
    "\n",
    "heights = [150, 160, 170, 180, 190]\n",
    "weights = [50, 60, 65, 80, 85]\n",
    "\n",
    "# Create subplots: 1 row, 2 columns\n",
    "fig, axs = plt.subplots(1, 2, figsize=(12, 5))\n",
    "\n",
    "# Bar plot for product sales\n",
    "axs[0].bar(products, sales, color='lightgreen')\n",
    "axs[0].set_title('Product Sales')\n",
    "axs[0].set_xlabel('Products')\n",
    "axs[0].set_ylabel('Sales')\n",
    "\n",
    "# Scatter plot for height vs. weight\n",
    "axs[1].scatter(heights, weights, color='coral')\n",
    "axs[1].set_title('Height vs. Weight')\n",
    "axs[1].set_xlabel('Height (cm)')\n",
    "axs[1].set_ylabel('Weight (kg)')\n",
    "\n",
    "# Adjust layout and display\n",
    "plt.tight_layout()\n",
    "plt.show()\n"
   ]
  }
 ],
 "metadata": {
  "language_info": {
   "name": "python"
  }
 },
 "nbformat": 4,
 "nbformat_minor": 2
}
