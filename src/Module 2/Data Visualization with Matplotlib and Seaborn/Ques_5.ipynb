{
 "cells": [
  {
   "cell_type": "code",
   "execution_count": null,
   "metadata": {},
   "outputs": [],
   "source": [
    "# Basic Seaborn Scatter Plot\n",
    "# Description: Using Seaborn, recreate the scatter plot from Question 2 for height vs. weight.\n",
    "\n",
    "import seaborn as sns\n",
    "import matplotlib.pyplot as plt\n",
    "import pandas as pd\n",
    "\n",
    "# Data\n",
    "heights = [160, 170, 165, 180, 175]  # in centimeters\n",
    "weights = [55, 65, 60, 80, 76]       # in kilograms\n",
    "\n",
    "# Create a DataFrame\n",
    "data = pd.DataFrame({'Height': heights, 'Weight': weights})\n",
    "\n",
    "# Create scatter plot using Seaborn\n",
    "plt.figure(figsize=(8, 5))\n",
    "sns.scatterplot(x='Height', y='Weight', data=data, color='purple', s=100, edgecolor='black')\n",
    "\n",
    "# Add labels and title\n",
    "plt.xlabel('Height (cm)')\n",
    "plt.ylabel('Weight (kg)')\n",
    "plt.title('Height vs Weight Scatter Plot')\n",
    "\n",
    "# Show plot\n",
    "plt.tight_layout()\n",
    "plt.show()"
   ]
  }
 ],
 "metadata": {
  "language_info": {
   "name": "python"
  }
 },
 "nbformat": 4,
 "nbformat_minor": 2
}
