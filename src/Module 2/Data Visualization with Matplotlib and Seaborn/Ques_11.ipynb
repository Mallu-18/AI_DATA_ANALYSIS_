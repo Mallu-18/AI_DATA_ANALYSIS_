{
 "cells": [
  {
   "cell_type": "code",
   "execution_count": null,
   "metadata": {},
   "outputs": [],
   "source": [
    "# Scatter Plot of Variable Relationships\n",
    "# Description: Use Seaborn to create a scatter plot showing the relationship between two\n",
    "# variables.\n",
    "\n",
    "import seaborn as sns\n",
    "import matplotlib.pyplot as plt\n",
    "\n",
    "# Load the built-in tips dataset\n",
    "tips = sns.load_dataset(\"tips\")\n",
    "\n",
    "# Set the style\n",
    "sns.set(style=\"whitegrid\")\n",
    "\n",
    "# Create the scatter plot\n",
    "plt.figure(figsize=(8, 6))\n",
    "sns.scatterplot(data=tips, x=\"total_bill\", y=\"tip\", hue=\"sex\", style=\"smoker\", palette=\"muted\", s=100)\n",
    "\n",
    "# Add plot title and axis labels\n",
    "plt.title(\"Scatter Plot of Total Bill vs Tip\", fontsize=16)\n",
    "plt.xlabel(\"Total Bill ($)\")\n",
    "plt.ylabel(\"Tip ($)\")\n",
    "plt.legend(title=\"Sex / Smoker\")\n",
    "plt.tight_layout()\n",
    "\n",
    "# Show the plot\n",
    "plt.show()"
   ]
  }
 ],
 "metadata": {
  "language_info": {
   "name": "python"
  }
 },
 "nbformat": 4,
 "nbformat_minor": 2
}
