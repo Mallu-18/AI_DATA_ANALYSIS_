{
 "cells": [
  {
   "cell_type": "code",
   "execution_count": null,
   "metadata": {},
   "outputs": [],
   "source": [
    "# Advanced Seaborn Plot with DataFrame\n",
    "# Description: Create a Seaborn plot using a DataFrame that visualizes two features in a single plot. Use tips\n",
    "# dataset available in Seaborn's sample datasets.\n",
    "\n",
    "import seaborn as sns\n",
    "import matplotlib.pyplot as plt\n",
    "\n",
    "# Load the built-in tips dataset\n",
    "tips = sns.load_dataset(\"tips\")\n",
    "\n",
    "# Set the aesthetic style of the plots\n",
    "sns.set(style=\"whitegrid\")\n",
    "\n",
    "# Create a scatter plot with regression line using hue and style\n",
    "plt.figure(figsize=(10, 6))\n",
    "sns.lmplot(\n",
    "    data=tips,\n",
    "    x=\"total_bill\",\n",
    "    y=\"tip\",\n",
    "    hue=\"sex\",\n",
    "    col=\"day\",\n",
    "    height=5,\n",
    "    aspect=1,\n",
    "    markers=[\"o\", \"s\"],\n",
    "    palette=\"Set1\",\n",
    "    scatter_kws={\"s\": 60, \"alpha\": 0.6}\n",
    ")\n",
    "\n",
    "# Set plot titles and axis labels\n",
    "plt.suptitle(\"Tips vs Total Bill by Day and Sex\", y=1.05, fontsize=16)\n",
    "plt.tight_layout()\n",
    "\n",
    "# Show plot\n",
    "plt.show()"
   ]
  }
 ],
 "metadata": {
  "language_info": {
   "name": "python"
  }
 },
 "nbformat": 4,
 "nbformat_minor": 2
}
