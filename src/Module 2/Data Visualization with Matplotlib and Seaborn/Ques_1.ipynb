{
 "cells": [
  {
   "cell_type": "code",
   "execution_count": 3,
   "metadata": {},
   "outputs": [
    {
     "name": "stdout",
     "output_type": "stream",
     "text": [
      "Successfully loaded 'sample_data.csv'\n",
      "\n",
      "DataFrame preview:\n",
      "      Name  Age         City\n",
      "0    Alice   28     New York\n",
      "1      Bob   34  Los Angeles\n",
      "2  Charlie   22      Chicago\n"
     ]
    }
   ],
   "source": [
    "import pandas as pd\n",
    "import os\n",
    "def load_csv_to_dataframe():\n",
    "    sample_data = \"\"\"Name,Age,City\n",
    "Alice,28,New York\n",
    "Bob,34,Los Angeles\n",
    "Charlie,22,Chicago\"\"\"\n",
    "    default_filename = \"sample_data.csv\"\n",
    "    if not os.path.exists(default_filename):\n",
    "        with open(default_filename, 'w') as f:\n",
    "            f.write(sample_data)\n",
    "        print(f\"Created sample CSV file: '{default_filename}'\")\n",
    "    try:\n",
    "        df = pd.read_csv(default_filename)\n",
    "        print(f\"Successfully loaded '{default_filename}'\")\n",
    "        print(\"\\nDataFrame preview:\")\n",
    "        print(df.head())\n",
    "        return df\n",
    "    except Exception as e:\n",
    "        print(f\"Unexpected error: {e}\")\n",
    "        return None\n",
    "dataframe = load_csv_to_dataframe()\n",
    "\n",
    "# Description: Create a bar plot using Matplotlib to visualize the number of sales (in thousands) for a set of\n",
    "# products: 'A', 'B', 'C', 'D', and 'E' with values [23, 75, 57, 90, 65].\n",
    "\n"
   ]
  }
 ],
 "metadata": {
  "kernelspec": {
   "display_name": "Python 3",
   "language": "python",
   "name": "python3"
  },
  "language_info": {
   "codemirror_mode": {
    "name": "ipython",
    "version": 3
   },
   "file_extension": ".py",
   "mimetype": "text/x-python",
   "name": "python",
   "nbconvert_exporter": "python",
   "pygments_lexer": "ipython3",
   "version": "3.10.12"
  }
 },
 "nbformat": 4,
 "nbformat_minor": 2
}
