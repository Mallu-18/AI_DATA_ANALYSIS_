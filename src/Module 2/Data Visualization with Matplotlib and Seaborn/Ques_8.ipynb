{
 "cells": [
  {
   "cell_type": "code",
   "execution_count": null,
   "metadata": {},
   "outputs": [],
   "source": [
    "# Seaborn Histogram with KDE\n",
    "# Description: Create a histogram using Seaborn that includes a Kernel Density Estimate (KDE) for marks\n",
    "# data: [23, 45, 56, 78, 89, 90, 67, 88, 76, 59].\n",
    "\n",
    "import seaborn as sns\n",
    "import matplotlib.pyplot as plt\n",
    "\n",
    "# Marks data\n",
    "marks = [23, 45, 56, 78, 89, 90, 67, 88, 76, 59]\n",
    "\n",
    "# Create histogram with KDE\n",
    "sns.histplot(marks, kde=True, bins=8, color='skyblue', edgecolor='black')\n",
    "\n",
    "# Add labels and title\n",
    "plt.xlabel('Marks')\n",
    "plt.ylabel('Frequency')\n",
    "plt.title('Histogram with KDE for Marks')\n",
    "\n",
    "# Show plot\n",
    "plt.show()\n"
   ]
  }
 ],
 "metadata": {
  "language_info": {
   "name": "python"
  }
 },
 "nbformat": 4,
 "nbformat_minor": 2
}
