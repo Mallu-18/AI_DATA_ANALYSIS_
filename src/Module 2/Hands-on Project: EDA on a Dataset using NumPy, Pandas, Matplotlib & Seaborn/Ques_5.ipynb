{
 "cells": [
  {
   "cell_type": "code",
   "execution_count": null,
   "metadata": {},
   "outputs": [],
   "source": [
    "# Title: Data Cleaning using Pandas\n",
    "# Description: Check for missing values and handle them by imputing the median.\n",
    "\n",
    "import pandas as pd\n",
    "import numpy as np\n",
    "\n",
    "# Sample DataFrame with missing values\n",
    "data = {\n",
    "    'A': [1, 2, np.nan, 4, 5],\n",
    "    'B': [5, np.nan, np.nan, 8, 10],\n",
    "    'C': [10, 11, 12, 13, np.nan]\n",
    "}\n",
    "\n",
    "df = pd.DataFrame(data)\n",
    "\n",
    "# Check for missing values\n",
    "print(\"Missing values per column before imputation:\")\n",
    "print(df.isnull().sum())\n",
    "\n",
    "# Impute missing values with median of each column\n",
    "df_imputed = df.fillna(df.median())\n",
    "\n",
    "print(\"\\nDataFrame after imputing missing values with median:\")\n",
    "print(df_imputed)\n",
    "\n",
    "# Verify no missing values remain\n",
    "print(\"\\nMissing values per column after imputation:\")\n",
    "print(df_imputed.isnull().sum())\n"
   ]
  }
 ],
 "metadata": {
  "language_info": {
   "name": "python"
  }
 },
 "nbformat": 4,
 "nbformat_minor": 2
}
