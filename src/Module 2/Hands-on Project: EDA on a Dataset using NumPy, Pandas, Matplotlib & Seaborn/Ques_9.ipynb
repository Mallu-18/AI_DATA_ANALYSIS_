{
 "cells": [
  {
   "cell_type": "code",
   "execution_count": null,
   "metadata": {},
   "outputs": [],
   "source": [
    "# Title: Feature Engineering for Classification\n",
    "# Description: Create a new feature that could help distinguish between species based on\n",
    "# logical assumptions and verify its utility.\n",
    "\n",
    "import seaborn as sns\n",
    "import pandas as pd\n",
    "import matplotlib.pyplot as plt\n",
    "\n",
    "# Load the iris dataset\n",
    "iris = sns.load_dataset(\"iris\")\n",
    "\n",
    "# Create a new feature: ratio of petal length to sepal length\n",
    "iris['petal_sepal_ratio'] = iris['petal_length'] / iris['sepal_length']\n",
    "\n",
    "# Display first few rows with the new feature\n",
    "print(iris[['species', 'petal_sepal_ratio']].head())\n",
    "\n",
    "# Visualize the new feature by species\n",
    "plt.figure(figsize=(8, 6))\n",
    "sns.boxplot(data=iris, x='species', y='petal_sepal_ratio', palette='Set3')\n",
    "\n",
    "plt.title(\"Distribution of Petal/Sepal Length Ratio by Species\")\n",
    "plt.ylabel(\"Petal Length / Sepal Length Ratio\")\n",
    "plt.xlabel(\"Species\")\n",
    "plt.tight_layout()\n",
    "plt.show()\n"
   ]
  }
 ],
 "metadata": {
  "language_info": {
   "name": "python"
  }
 },
 "nbformat": 4,
 "nbformat_minor": 2
}
