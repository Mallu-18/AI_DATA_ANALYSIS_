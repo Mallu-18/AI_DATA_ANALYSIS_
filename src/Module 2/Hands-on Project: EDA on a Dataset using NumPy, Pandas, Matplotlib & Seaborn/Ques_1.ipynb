{
 "cells": [
  {
   "cell_type": "code",
   "execution_count": null,
   "metadata": {},
   "outputs": [],
   "source": [
    "# Title: Load & Examine a Basic Dataset\n",
    "# Description: Load an example dataset such as the Iris dataset and perform basic exploration.\n",
    "\n",
    "import matplotlib.pyplot as plt\n",
    "import numpy as np\n",
    "\n",
    "# Generate data\n",
    "x = np.linspace(0, 10, 100)\n",
    "y1 = np.sin(x)\n",
    "y2 = np.cos(x)\n",
    "\n",
    "# Create a 1x2 grid of subplots\n",
    "fig, axes = plt.subplots(1, 2, figsize=(12, 5), sharex=True, sharey=True)\n",
    "\n",
    "# First subplot: Sine wave\n",
    "axes[0].plot(x, y1, color='blue', linewidth=2, linestyle='--', marker='o')\n",
    "axes[0].set_title('Sine Function', fontsize=14)\n",
    "axes[0].set_xlabel('X')\n",
    "axes[0].set_ylabel('Y')\n",
    "axes[0].grid(True, linestyle=':', linewidth=1)\n",
    "\n",
    "# Second subplot: Cosine wave\n",
    "axes[1].plot(x, y2, color='green', linewidth=2, linestyle='-.', marker='s')\n",
    "axes[1].set_title('Cosine Function', fontsize=14)\n",
    "axes[1].set_xlabel('X')\n",
    "axes[1].grid(True, linestyle=':', linewidth=1)\n",
    "\n",
    "# Overall title and layout adjustment\n",
    "fig.suptitle('Combined Plots of Sine and Cosine', fontsize=16, fontweight='bold')\n",
    "plt.tight_layout(rect=[0, 0, 1, 0.95])  # Leave space for the main title\n",
    "\n",
    "# Show the combined plot\n",
    "plt.show()\n"
   ]
  }
 ],
 "metadata": {
  "language_info": {
   "name": "python"
  }
 },
 "nbformat": 4,
 "nbformat_minor": 2
}
