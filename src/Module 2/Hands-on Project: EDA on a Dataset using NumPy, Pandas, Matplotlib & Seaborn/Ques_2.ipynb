{
 "cells": [
  {
   "cell_type": "code",
   "execution_count": null,
   "metadata": {},
   "outputs": [],
   "source": [
    "# Title: Basic NumPy Operations\n",
    "# Description: Perform basic operations such as calculating the mean of the dataset.\n",
    "\n",
    "import numpy as np\n",
    "\n",
    "# Sample dataset (you can replace this with any array)\n",
    "data = np.array([10, 15, 20, 25, 30, 35, 40])\n",
    "\n",
    "# Basic NumPy operations\n",
    "mean_value = np.mean(data)\n",
    "sum_value = np.sum(data)\n",
    "max_value = np.max(data)\n",
    "min_value = np.min(data)\n",
    "std_deviation = np.std(data)\n",
    "\n",
    "# Display the results\n",
    "print(\"Dataset:\", data)\n",
    "print(\"Mean:\", mean_value)\n",
    "print(\"Sum:\", sum_value)\n",
    "print(\"Max:\", max_value)\n",
    "print(\"Min:\", min_value)\n",
    "print(\"Standard Deviation:\", std_deviation)"
   ]
  }
 ],
 "metadata": {
  "language_info": {
   "name": "python"
  }
 },
 "nbformat": 4,
 "nbformat_minor": 2
}
