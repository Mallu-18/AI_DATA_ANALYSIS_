{
 "cells": [
  {
   "cell_type": "code",
   "execution_count": null,
   "metadata": {},
   "outputs": [],
   "source": [
    "# Title: Advanced Data Visualization\n",
    "# Description: Create a pair plot for the dataset to display pairwise relationships.\n",
    "\n",
    "import seaborn as sns\n",
    "import matplotlib.pyplot as plt\n",
    "\n",
    "# Load the iris dataset\n",
    "iris = sns.load_dataset(\"iris\")\n",
    "\n",
    "# Set plot style\n",
    "sns.set(style=\"ticks\")\n",
    "\n",
    "# Create the pairplot with hue for species\n",
    "pair_plot = sns.pairplot(\n",
    "    iris,\n",
    "    hue=\"species\",\n",
    "    diag_kind=\"kde\",     # KDE plot on the diagonal\n",
    "    markers=[\"o\", \"s\", \"D\"],\n",
    "    palette=\"bright\"\n",
    ")\n",
    "\n",
    "pair_plot.fig.suptitle(\"Pairwise Relationships in Iris Dataset\", y=1.02, fontsize=16)\n",
    "\n",
    "plt.show()\n",
    "\n",
    "\n"
   ]
  },
  {
   "cell_type": "code",
   "execution_count": null,
   "metadata": {},
   "outputs": [],
   "source": []
  }
 ],
 "metadata": {
  "language_info": {
   "name": "python"
  }
 },
 "nbformat": 4,
 "nbformat_minor": 2
}
