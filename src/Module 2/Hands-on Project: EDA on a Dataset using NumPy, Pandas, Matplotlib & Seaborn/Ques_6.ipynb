{
 "cells": [
  {
   "cell_type": "code",
   "execution_count": null,
   "metadata": {},
   "outputs": [],
   "source": [
    "# Title: Correlation Analysis\n",
    "# Description: Find the correlation between different features and visualize using a heatmap.\n",
    "\n",
    "import seaborn as sns\n",
    "import matplotlib.pyplot as plt\n",
    "\n",
    "# Load the iris dataset\n",
    "iris = sns.load_dataset(\"iris\")\n",
    "\n",
    "# Compute the correlation matrix (only numeric columns)\n",
    "corr = iris.corr()\n",
    "\n",
    "# Set plot style\n",
    "sns.set(style=\"white\")\n",
    "\n",
    "# Plot the heatmap\n",
    "plt.figure(figsize=(8, 6))\n",
    "sns.heatmap(\n",
    "    corr,\n",
    "    annot=True,        # Show correlation values\n",
    "    cmap=\"coolwarm\",   # Color map for positive/negative correlations\n",
    "    linewidths=0.5,\n",
    "    linecolor='gray',\n",
    "    fmt=\".2f\"\n",
    ")\n",
    "\n",
    "plt.title(\"Correlation Heatmap of Iris Dataset\", fontsize=16, fontweight='bold')\n",
    "plt.tight_layout()\n",
    "plt.show()\n"
   ]
  }
 ],
 "metadata": {
  "language_info": {
   "name": "python"
  }
 },
 "nbformat": 4,
 "nbformat_minor": 2
}
