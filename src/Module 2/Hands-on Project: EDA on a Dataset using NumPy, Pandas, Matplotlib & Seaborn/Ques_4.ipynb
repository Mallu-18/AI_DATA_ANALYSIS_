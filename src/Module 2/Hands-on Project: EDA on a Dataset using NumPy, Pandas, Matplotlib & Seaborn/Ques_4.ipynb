{
 "cells": [
  {
   "cell_type": "code",
   "execution_count": null,
   "metadata": {},
   "outputs": [],
   "source": [
    "# Title: Basic Data Visualization\n",
    "# Description: Plot the distribution of one feature using Seaborn.\n",
    "\n",
    "import seaborn as sns\n",
    "import matplotlib.pyplot as plt\n",
    "\n",
    "# Load the iris dataset\n",
    "iris = sns.load_dataset(\"iris\")\n",
    "\n",
    "# Set plot style\n",
    "sns.set(style=\"whitegrid\")\n",
    "\n",
    "# Plot the distribution of sepal_length\n",
    "plt.figure(figsize=(8, 6))\n",
    "sns.histplot(data=iris, x=\"sepal_length\", kde=True, color=\"skyblue\", bins=20)\n",
    "\n",
    "# Add titles and labels\n",
    "plt.title(\"Distribution of Sepal Length\", fontsize=16)\n",
    "plt.xlabel(\"Sepal Length (cm)\")\n",
    "plt.ylabel(\"Frequency\")\n",
    "\n",
    "plt.tight_layout()\n",
    "plt.show()\n"
   ]
  }
 ],
 "metadata": {
  "language_info": {
   "name": "python"
  }
 },
 "nbformat": 4,
 "nbformat_minor": 2
}
