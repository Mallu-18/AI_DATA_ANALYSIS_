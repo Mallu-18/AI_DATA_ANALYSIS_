{
 "cells": [
  {
   "cell_type": "markdown",
   "metadata": {},
   "source": [
    "# Automated Anomaly Detection\n",
    "**Objective**: Understand and practice automated anomaly detection using various techniques.\n",
    "\n",
    "**Task**: Anomaly Detection with Isolation Forest\n",
    "\n",
    "**Steps**:\n",
    "1. Data Set: Obtain a dataset of server response times.\n",
    "2. Train Model: Use Isolation Forest to train a model on the response time data.\n",
    "3. Detect Anomalies: Predict which response times are anomalies.\n",
    "4. Evaluate Results: Assess the number of anomalies detected."
   ]
  },
  {
   "cell_type": "code",
   "execution_count": null,
   "metadata": {},
   "outputs": [],
   "source": [
    "# write your code from here\n",
    "import pandas as pd\n",
    "import numpy as np\n",
    "import matplotlib.pyplot as plt\n",
    "from sklearn.ensemble import IsolationForest\n",
    "\n",
    "# Simulate server response times (in milliseconds)\n",
    "np.random.seed(42)\n",
    "response_times = np.random.normal(loc=200, scale=15, size=100)\n",
    "\n",
    "# Inject some anomalies\n",
    "response_times[10] = 400\n",
    "response_times[35] = 450\n",
    "response_times[80] = 390\n",
    "\n",
    "# Create a DataFrame\n",
    "df = pd.DataFrame({'ResponseTime': response_times})\n",
    "\n",
    "print(f\"Number of anomalies detected: {df['anomaly'].sum()}\")\n",
    "plt.figure(figsize=(10, 6))\n",
    "plt.plot(df.index, df['response_time'], label=\"Response Time\")\n",
    "plt.scatter(df.index[df['anomaly'] == 1], df['response_time'][df['anomaly'] == 1], color='red', label=\"Anomalies\")\n",
    "plt.xlabel(\"Index\")\n",
    "plt.ylabel(\"Response Time\")\n",
    "plt.title(\"Anomaly Detection with Isolation Forest\")\n",
    "plt.legend()\n",
    "plt.show()"
   ]
  }
 ],
 "metadata": {
  "kernelspec": {
   "display_name": "base",
   "language": "python",
   "name": "python3"
  },
  "language_info": {
   "name": "python",
   "version": "3.12.7"
  }
 },
 "nbformat": 4,
 "nbformat_minor": 2
}
