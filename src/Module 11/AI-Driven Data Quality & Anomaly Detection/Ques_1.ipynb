{
 "cells": [
  {
   "cell_type": "markdown",
   "metadata": {},
   "source": [
    "# Automated Anomaly Detection\n",
    "**Objective**: Understand and practice automated anomaly detection using various techniques.\n",
    "\n",
    "**Task**: Automated Anomaly Detection using Z-score method\n",
    "\n",
    "**Steps**:\n",
    "1. Data Set: Download a dataset representing daily sales figures for a retail store.\n",
    "2. Calculate Z-score: Compute the mean and standard deviation of the sales. Use these to\n",
    "calculate the Z-score for each day's sales figure.\n",
    "3. Identify Anomalies: Detect anomalies by identifying values with a Z-score above 3 or below -3.\n",
    "4. Visualize: Plot a graph to visualize anomalies."
   ]
  },
  {
   "cell_type": "code",
   "execution_count": null,
   "metadata": {},
   "outputs": [],
   "source": [
    "# write your code from here\n",
    "\n",
    "import pandas as pd\n",
    "import numpy as np\n",
    "import matplotlib.pyplot as plt\n",
    "data = {\n",
    "    \"date\": pd.date_range(start=\"2023-01-01\", periods=30, freq=\"D\"),\n",
    "    \"sales\": [100, 120, 130, 110, 105, 150, 130, 140, 145, 110, 115, 160, 180, 170, 155, 165, 190, 210, 195, 205, 200, 205, 215, 230, 240, 220, 225, 250, 235, 300]\n",
    "}\n",
    "df = pd.DataFrame(data)\n",
    "mean_sales = df[\"sales\"].mean()\n",
    "std_sales = df[\"sales\"].std()\n",
    "df[\"z_score\"] = (df[\"sales\"] - mean_sales) / std_sales\n",
    "df[\"anomaly\"] = np.where((df[\"z_score\"] > 3) | (df[\"z_score\"] < -3), True, False)\n",
    "plt.figure(figsize=(10, 6))\n",
    "plt.plot(df[\"date\"], df[\"sales\"], label=\"Sales\")\n",
    "plt.scatter(df[\"date\"][df[\"anomaly\"]], df[\"sales\"][df[\"anomaly\"]], color=\"red\", label=\"Anomaly\")\n",
    "plt.xlabel(\"Date\")\n",
    "plt.ylabel(\"Sales\")\n",
    "plt.title(\"Sales with Anomalies (Z-score > 3 or < -3)\")\n",
    "plt.legend()\n",
    "plt.xticks(rotation=45)\n",
    "\n",
    "\n",
    "plt.show()"
   ]
  }
 ],
 "metadata": {
  "kernelspec": {
   "display_name": "base",
   "language": "python",
   "name": "python3"
  },
  "language_info": {
   "name": "python",
   "version": "3.12.7"
  }
 },
 "nbformat": 4,
 "nbformat_minor": 2
}
