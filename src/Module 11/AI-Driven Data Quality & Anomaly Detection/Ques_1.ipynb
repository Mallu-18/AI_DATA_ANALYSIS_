{
 "cells": [
  {
   "cell_type": "markdown",
   "metadata": {},
   "source": [
    "# Automated Anomaly Detection\n",
    "**Objective**: Understand and practice automated anomaly detection using various techniques.\n",
    "\n",
    "**Task**: Automated Anomaly Detection using Z-score method\n",
    "\n",
    "**Steps**:\n",
    "1. Data Set: Download a dataset representing daily sales figures for a retail store.\n",
    "2. Calculate Z-score: Compute the mean and standard deviation of the sales. Use these to\n",
    "calculate the Z-score for each day's sales figure.\n",
    "3. Identify Anomalies: Detect anomalies by identifying values with a Z-score above 3 or below -3.\n",
    "4. Visualize: Plot a graph to visualize anomalies."
   ]
  },
  {
   "cell_type": "code",
   "execution_count": null,
   "metadata": {},
   "outputs": [],
   "source": [
    "import pandas as pd\n",
    "import numpy as np\n",
    "import matplotlib.pyplot as plt\n",
    "\n",
    "# Simulate daily sales data\n",
    "np.random.seed(42)\n",
    "dates = pd.date_range(start='2024-01-01', periods=100)\n",
    "sales = np.random.normal(loc=200, scale=20, size=100)\n",
    "\n",
    "# Introduce a few anomalies\n",
    "sales[10] = 300\n",
    "sales[25] = 50\n",
    "sales[80] = 310\n",
    "\n",
    "# Create DataFrame\n",
    "df = pd.DataFrame({'Date': dates, 'Sales': sales})\n",
    "                                                                                                                                                                                "
   ]
  }
 ],
 "metadata": {
  "kernelspec": {
   "display_name": "base",
   "language": "python",
   "name": "python3"
  },
  "language_info": {
   "name": "python",
   "version": "3.12.7"
  }
 },
 "nbformat": 4,
 "nbformat_minor": 2
}
