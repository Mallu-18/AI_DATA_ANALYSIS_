{
 "cells": [
  {
   "cell_type": "code",
   "execution_count": null,
   "metadata": {},
   "outputs": [],
   "source": [
    "# Question: Evaluating Data Distribution\n",
    "# Description: Analyze the distribution of a numeric column using histograms and descriptive statistics.\n",
    "\n",
    "# Import necessary libraries\n",
    "import pandas as pd\n",
    "import matplotlib.pyplot as plt\n",
    "import seaborn as sns\n",
    "\n",
    "# Load your dataset (replace with your actual file path or DataFrame)\n",
    "# Example: df = pd.read_csv('your_dataset.csv')\n",
    "df = pd.read_csv('your_dataset.csv')\n",
    "\n",
    "# Select the numeric column to analyze\n",
    "column = 'your_numeric_column'  # Replace with the actual column name\n",
    "\n",
    "# Display descriptive statistics\n",
    "print(\"Descriptive Statistics:\")\n",
    "print(df[column].describe())\n",
    "\n",
    "# Plot histogram\n",
    "plt.figure(figsize=(10, 6))\n",
    "sns.histplot(df[column], bins=30, kde=True, color='skyblue')\n",
    "plt.title(f'Distribution of {column}')\n",
    "plt.xlabel(column)\n",
    "plt.ylabel('Frequency')\n",
    "plt.grid(True)\n",
    "plt.show()\n"
   ]
  }
 ],
 "metadata": {
  "language_info": {
   "name": "python"
  }
 },
 "nbformat": 4,
 "nbformat_minor": 2
}
