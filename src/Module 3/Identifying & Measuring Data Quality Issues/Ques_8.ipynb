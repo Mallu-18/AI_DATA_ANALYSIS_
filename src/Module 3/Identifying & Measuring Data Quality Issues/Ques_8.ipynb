{
 "cells": [
  {
   "cell_type": "code",
   "execution_count": null,
   "metadata": {},
   "outputs": [],
   "source": [
    "# Question: Detecting Data Drift\n",
    "# Description: Identify potential data drift between two time periods for a numeric attribute.\n",
    "\n",
    "# Import necessary libraries\n",
    "import pandas as pd\n",
    "import matplotlib.pyplot as plt\n",
    "import seaborn as sns\n",
    "from scipy.stats import ks_2samp\n",
    "\n",
    "# Load dataset\n",
    "df = pd.read_csv('your_dataset.csv')  # Replace with your dataset\n",
    "\n",
    "# Assume your dataset has a 'date' column and a numeric column to compare\n",
    "numeric_column = 'your_numeric_column'  # Replace with the actual column name\n",
    "date_column = 'date'  # Replace if your date column has a different name\n",
    "\n",
    "# Convert to datetime if necessary\n",
    "df[date_column] = pd.to_datetime(df[date_column])\n",
    "\n",
    "# Define two time periods (adjust as needed)\n",
    "period_1 = df[df[date_column] < '2023-01-01']\n",
    "period_2 = df[df[date_column] >= '2023-01-01']\n",
    "\n",
    "# Extract values of the numeric column for both periods\n",
    "values_1 = period_1[numeric_column].dropna()\n",
    "values_2 = period_2[numeric_column].dropna()\n",
    "\n",
    "# Plot the distributions\n",
    "plt.figure(figsize=(10, 6))\n",
    "sns.kdeplot(values_1, label='Period 1', shade=True)\n",
    "sns.kdeplot(values_2, label='Period 2', shade=True)\n",
    "plt.title(f'Distribution of {numeric_column} - Data Drift Check')\n",
    "plt.xlabel(numeric_column)\n",
    "plt.ylabel('Density')\n",
    "plt.legend()\n",
    "plt.grid(True)\n",
    "plt.show()\n",
    "\n",
    "# Perform Kolmogorov-Smirnov test\n",
    "stat, p_value = ks_2samp(values_1, values_2)\n",
    "print(f\"KS Test Statistic: {stat:.4f}\")\n",
    "print(f\"P-value: {p_value:.4f}\")\n",
    "\n",
    "# Interpretation\n",
    "if p_value < 0.05:\n",
    "    print(\"⚠️ Potential data drift detected (statistically significant difference).\")\n",
    "else:\n",
    "    print(\"✅ No significant data drift detected.\")\n"
   ]
  }
 ],
 "metadata": {
  "language_info": {
   "name": "python"
  }
 },
 "nbformat": 4,
 "nbformat_minor": 2
}
