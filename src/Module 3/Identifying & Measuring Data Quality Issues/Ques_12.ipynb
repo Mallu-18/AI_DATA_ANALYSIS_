{
 "cells": [
  {
   "cell_type": "code",
   "execution_count": null,
   "metadata": {},
   "outputs": [],
   "source": [
    "\n",
    "import pandas as pd\n",
    "data = {'Sales': [200, 220, 250, 200, 270, 220, 230, 210, 250, 260]}\n",
    "df = pd.DataFrame(data)\n",
    "mean_sales = df['Sales'].mean()\n",
    "median_sales = df['Sales'].median()\n",
    "mode_sales = df['Sales'].mode()[0]\n",
    "print(f\"Mean Sales: {mean_sales}\")\n",
    "print(f\"Median Sales: {median_sales}\")\n",
    "print(f\"Mode Sales: {mode_sales}\")\n",
    "data = {'Age': [25, 30, 22, 25, 35, 40, 30, 29, 25, 31]}\n",
    "df = pd.DataFrame(data)\n",
    "mean_age = df['Age'].mean()\n",
    "median_age = df['Age'].median()\n",
    "mode_age = df['Age'].mode()[0]\n",
    "print(f\"Average Age: {mean_age}\")\n",
    "print(f\"Median Age: {median_age}\")\n",
    "print(f\"Mode Age: {mode_age}\")\n",
    "data = {'Visits': [500, 520, 480, 500, 490, 530, 500, 515, 495, 505]}\n",
    "df = pd.DataFrame(data)\n",
    "mean_visits = df['Visits'].mean()\n",
    "median_visits = df['Visits'].median()\n",
    "mode_visits = df['Visits'].mode()[0]\n",
    "print(f\"Mean Visits: {mean_visits}\")\n",
    "print(f\"Median Visits: {median_visits}\")\n",
    "print(f\"Mode Visits: {mode_visits}\")"
   ]
  }
 ],
 "metadata": {
  "language_info": {
   "name": "python"
  }
 },
 "nbformat": 4,
 "nbformat_minor": 2
}
