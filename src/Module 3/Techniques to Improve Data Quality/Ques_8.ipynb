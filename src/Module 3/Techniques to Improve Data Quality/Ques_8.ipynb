{
 "cells": [
  {
   "cell_type": "code",
   "execution_count": null,
   "metadata": {},
   "outputs": [],
   "source": [
    "# Question: Data Quality Automation Tools - Introduction to Great Expectations\n",
    "# Description: Set up a simple Great Expectations check for missing values in a numeric column.\n",
    "\n",
    "import pandas as pd\n",
    "\n",
    "# Sample data\n",
    "data = {\n",
    "    \"id\": [1, 2, 3, 4],\n",
    "    \"price\": [10.5, None, 12.0, 11.8]  # 'None' represents missing value\n",
    "}\n",
    "\n",
    "df = pd.DataFrame(data)\n",
    "from great_expectations.dataset import PandasDataset\n",
    "\n",
    "class MyDataset(PandasDataset):\n",
    "    pass\n",
    "\n",
    "my_data = MyDataset(df)\n",
    "\n",
    "# Check for missing values in 'price' column\n",
    "result = my_data.expect_column_values_to_not_be_null(\"price\")\n",
    "\n",
    "# Print result\n",
    "print(result)\n"
   ]
  }
 ],
 "metadata": {
  "language_info": {
   "name": "python"
  }
 },
 "nbformat": 4,
 "nbformat_minor": 2
}
