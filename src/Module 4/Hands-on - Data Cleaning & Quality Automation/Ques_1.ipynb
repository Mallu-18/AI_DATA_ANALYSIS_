{
 "cells": [
  {
   "cell_type": "code",
   "execution_count": null,
   "metadata": {},
   "outputs": [],
   "source": [
    "#  Question 1: Handling Missing Values with Conditional Filling\n",
    "# Description: Fill missing values in a specific column based on a condition from another column.\n",
    "# Fill missing salary values with the mean salary of the same department\n",
    "import pandas as pd\n",
    "import numpy as np\n",
    "df = pd.DataFrame({\n",
    "    \"employee\": [\"Alice\", \"Bob\", \"Charlie\", \"David\", \"Eve\"],\n",
    "    \"department\": [\"HR\", \"Engineering\", \"HR\", \"Engineering\", \"HR\"],\n",
    "    \"salary\": [50000, np.nan, np.nan, 70000, 52000]\n",
    "})\n",
    "df[\"salary\"] = df.groupby(\"department\")[\"salary\"].transform(\n",
    "    lambda x: x.fillna(x.mean())\n",
    ")\n",
    "print(df)"
   ]
  },
  {
   "cell_type": "code",
   "execution_count": null,
   "metadata": {},
   "outputs": [],
   "source": [
    "# Question 2: Removing Outliers by Rescaling\n",
    "# Description: Remove outliers by standardizing a numerical column using z-scores.\n",
    "import pandas as pd\n",
    "import numpy as np\n",
    "from scipy import stats\n",
    "df = pd.DataFrame({\n",
    "    \"salary\": [50000, 52000, 51000, 49000, 51500, 120000]\n",
    "})\n",
    "z_scores = np.abs(stats.zscore(df[\"salary\"]))\n",
    "threshold = 3\n",
    "df_clean = df[z_scores < threshold]\n",
    "print(\"Cleaned Data:\\n\", df_clean)"
   ]
  },
  {
   "cell_type": "code",
   "execution_count": null,
   "metadata": {},
   "outputs": [],
   "source": [
    "# Question 3: Applying Data Type Conversion\n",
    "# Description: Convert the 'Age' column to integers after filling missing values.\n",
    "import pandas as pd\n",
    "import numpy as np\n",
    "df = pd.DataFrame({\n",
    "    'Name': ['Alice', 'Bob', 'Charlie', 'David'],\n",
    "    'Age': [25, np.nan, 30, np.nan]\n",
    "})\n",
    "df['Age'].fillna(df['Age'].median(), inplace=True)\n",
    "df['Age'] = df['Age'].astype(int)\n",
    "print(df)"
   ]
  },
  {
   "cell_type": "code",
   "execution_count": null,
   "metadata": {},
   "outputs": [],
   "source": [
    "# Question 4: Automating Data Cleaning with Functions\n",
    "# Description: Create a function that automates the process of filling missing values, removing duplicates, and standardizing column names.\n",
    "import pandas as pd\n",
    "\n",
    "def clean_data(df, fillna_dict=None, remove_duplicates=True):\n",
    "    \"\"\"\n",
    "    Automates the process of data cleaning:\n",
    "    - Fill missing values based on column-wise definitions.\n",
    "    - Remove duplicates if specified.\n",
    "    - Standardize column names to lowercase and replace spaces with underscores.\n",
    "    \n",
    "    Parameters:\n",
    "    - df: DataFrame to be cleaned.\n",
    "    - fillna_dict: Dictionary defining columns and values to fill for missing data (optional).\n",
    "    - remove_duplicates: Boolean flag to indicate if duplicates should be removed (default=True).\n",
    "    \n",
    "    Returns:\n",
    "    - Cleaned DataFrame.\n",
    "    \"\"\"\n",
    "    \n",
    "    df.columns = df.columns.str.lower().str.replace(' ', '_')\n",
    "    if fillna_dict:\n",
    "        for column, value in fillna_dict.items():\n",
    "            if column in df.columns:\n",
    "                df[column].fillna(value, inplace=True)\n",
    "    if remove_duplicates:\n",
    "        df.drop_duplicates(inplace=True)\n",
    "    \n",
    "    return df\n",
    "data = {\n",
    "    'Name': ['Alice', 'Bob', 'Charlie', 'Alice', 'David'],\n",
    "    'Age': [25, None, 30, 25, None],\n",
    "    'Salary': [50000, 60000, None, 50000, 70000]\n",
    "}\n",
    "df = pd.DataFrame(data)\n",
    "cleaned_df = clean_data(df, fillna_dict={'Age': 28, 'Salary': 55000})\n",
    "print(\"Cleaned DataFrame:\\n\", cleaned_df)"
   ]
  },
  {
   "cell_type": "code",
   "execution_count": null,
   "metadata": {},
   "outputs": [],
   "source": [
    "#  Question 5: Complex Data Normalization\n",
    "# Description: Normalize a numeric column to a range using min-max scaling.\n",
    "import pandas as pd\n",
    "df = pd.DataFrame({\n",
    "    'Age': [25, 28, 30, 22, 35]\n",
    "})\n",
    "df['Age_normalized'] = (df['Age'] - df['Age'].min()) / (df['Age'].max() - df['Age'].min())\n",
    "print(df)"
   ]
  }
 ],
 "metadata": {
  "language_info": {
   "name": "python"
  }
 },
 "nbformat": 4,
 "nbformat_minor": 2
}
